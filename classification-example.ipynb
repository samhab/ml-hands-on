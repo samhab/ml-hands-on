{
 "cells": [
  {
   "cell_type": "markdown",
   "metadata": {},
   "source": [
    "# Klassifikations-Modell"
   ]
  },
  {
   "cell_type": "code",
   "execution_count": null,
   "metadata": {},
   "outputs": [],
   "source": [
    "!pip install ucimlrepo"
   ]
  },
  {
   "cell_type": "code",
   "execution_count": null,
   "metadata": {},
   "outputs": [],
   "source": [
    "import numpy as np\n",
    "import pandas as pd\n",
    "import seaborn as sns\n",
    "import matplotlib.pyplot as plt\n",
    "from ucimlrepo import fetch_ucirepo\n",
    "from sklearn.preprocessing import OneHotEncoder\n",
    "from sklearn.impute import SimpleImputer\n",
    "from sklearn.model_selection import train_test_split\n",
    "from sklearn.linear_model import LogisticRegression\n",
    "from sklearn.tree import DecisionTreeClassifier, plot_tree\n",
    "from sklearn.metrics import accuracy_score, confusion_matrix, ConfusionMatrixDisplay\n",
    "from sklearn.inspection import DecisionBoundaryDisplay\n",
    "sns.set_theme()"
   ]
  },
  {
   "cell_type": "markdown",
   "metadata": {},
   "source": [
    "## Datengrundlage"
   ]
  },
  {
   "cell_type": "code",
   "execution_count": null,
   "metadata": {},
   "outputs": [],
   "source": [
    "data_raw = pd.DataFrame({\n",
    "    'temperature': [2, 3, 5, 5, 8, 9, 10, 11, 11, 14, 16, 18, 20, 20, 21, 21, 22, 26, 28, 29],\n",
    "    'humidity': [0.01, 0.92, 0.74, 0.96, 0.01, 0.22, 0.48, 0.98, 0.79, 0.81, 0.13,\n",
    "       0.85, 0.94, 0.41, 0.23, 0.39, 0.15, 0.57, 0.87, 0.36],\n",
    "    'pollen': [0, 0, 0, 0, 1, 0, 0, 0, 0, 0, 1, 0, 0, 1, 0, 1, 1, 0, 0, 1]\n",
    "})"
   ]
  },
  {
   "cell_type": "code",
   "execution_count": null,
   "metadata": {},
   "outputs": [],
   "source": [
    "## Titanic Datenset (Binary Classification)\n",
    "## https://www.kaggle.com/c/titanic/data\n",
    "#data_raw = sns.load_dataset('titanic')"
   ]
  },
  {
   "cell_type": "code",
   "execution_count": null,
   "metadata": {},
   "outputs": [],
   "source": [
    "## Pilz Datenset (Binary Classification)\n",
    "## https://archive.ics.uci.edu/dataset/73/mushroom\n",
    "#mushroom = fetch_ucirepo(id=73)\n",
    "#data_raw = mushroom.data.features.join(mushroom.data.targets)"
   ]
  },
  {
   "cell_type": "code",
   "execution_count": null,
   "metadata": {},
   "outputs": [],
   "source": [
    "## Einkommen Dataset (Multiclass Classification)\n",
    "## https://archive.ics.uci.edu/dataset/2/adult\n",
    "#adult = fetch_ucirepo(id=2)\n",
    "#data_raw = adult.data.features.join(adult.data.targets).sample(5000, random_state=42)"
   ]
  },
  {
   "cell_type": "code",
   "execution_count": null,
   "metadata": {},
   "outputs": [],
   "source": [
    "## Wein Dataset (Multiclass Classification)\n",
    "## https://archive.ics.uci.edu/dataset/109/wine\n",
    "#wine = fetch_ucirepo(id=109)\n",
    "#data_raw = wine.data.features.join(wine.data.targets)"
   ]
  },
  {
   "cell_type": "markdown",
   "metadata": {},
   "source": [
    "## Daten-Visualisierung"
   ]
  },
  {
   "cell_type": "code",
   "execution_count": null,
   "metadata": {},
   "outputs": [],
   "source": [
    "data_raw"
   ]
  },
  {
   "cell_type": "code",
   "execution_count": null,
   "metadata": {},
   "outputs": [],
   "source": [
    "data_raw.dtypes"
   ]
  },
  {
   "cell_type": "code",
   "execution_count": null,
   "metadata": {},
   "outputs": [],
   "source": [
    "sns.scatterplot(data_raw, x='humidity', y='temperature', hue='pollen')"
   ]
  },
  {
   "cell_type": "code",
   "execution_count": null,
   "metadata": {},
   "outputs": [],
   "source": [
    "sns.catplot(data_raw, x='pollen', y='temperature', kind='bar')"
   ]
  },
  {
   "cell_type": "markdown",
   "metadata": {},
   "source": [
    "## Preprocessing"
   ]
  },
  {
   "cell_type": "code",
   "execution_count": null,
   "metadata": {},
   "outputs": [],
   "source": [
    "#encoder = OneHotEncoder(sparse_output=False, drop=\"if_binary\")\n",
    "#encoded_values = encoder.fit_transform(data_raw[['categorisches_feature_1', 'categorisches_feature_2']])\n",
    "#encoded_values_df = pd.DataFrame(encoded_values, columns=encoder.get_feature_names_out())"
   ]
  },
  {
   "cell_type": "code",
   "execution_count": null,
   "metadata": {},
   "outputs": [],
   "source": [
    "#encoded_values_df"
   ]
  },
  {
   "cell_type": "code",
   "execution_count": null,
   "metadata": {},
   "outputs": [],
   "source": [
    "data_preprocessed = data_raw#.join(encoded_values_df)"
   ]
  },
  {
   "cell_type": "code",
   "execution_count": null,
   "metadata": {},
   "outputs": [],
   "source": [
    "feature_columns = ['temperature', 'humidity']\n",
    "feature_matrix = data_preprocessed[feature_columns]\n",
    "\n",
    "target_column = 'pollen'\n",
    "target = data_preprocessed[target_column]"
   ]
  },
  {
   "cell_type": "code",
   "execution_count": null,
   "metadata": {},
   "outputs": [],
   "source": [
    "# Falls fehlende Werte (Null, NA,...) vorhanden sind\n",
    "imputer = SimpleImputer(strategy='mean')\n",
    "imputed_values = imputer.fit_transform(feature_matrix)\n",
    "feature_matrix = pd.DataFrame(imputed_values, columns=imputer.get_feature_names_out())"
   ]
  },
  {
   "cell_type": "code",
   "execution_count": null,
   "metadata": {},
   "outputs": [],
   "source": [
    "feature_matrix"
   ]
  },
  {
   "cell_type": "code",
   "execution_count": null,
   "metadata": {},
   "outputs": [],
   "source": [
    "target"
   ]
  },
  {
   "cell_type": "markdown",
   "metadata": {},
   "source": [
    "## Train-Test-Split"
   ]
  },
  {
   "cell_type": "code",
   "execution_count": null,
   "metadata": {},
   "outputs": [],
   "source": [
    "train_feature_matrix, test_feature_matrix, train_y, test_y = train_test_split(feature_matrix, target, test_size=0.4, random_state=3)"
   ]
  },
  {
   "cell_type": "markdown",
   "metadata": {},
   "source": [
    "## Modell-Training"
   ]
  },
  {
   "cell_type": "code",
   "execution_count": null,
   "metadata": {},
   "outputs": [],
   "source": [
    "model = LogisticRegression(penalty=None)\n",
    "#model = DecisionTreeClassifier()\n",
    "model.fit(train_feature_matrix, train_y)"
   ]
  },
  {
   "cell_type": "markdown",
   "metadata": {},
   "source": [
    "## Modell-Evaluation auf Testset"
   ]
  },
  {
   "cell_type": "code",
   "execution_count": null,
   "metadata": {},
   "outputs": [],
   "source": [
    "model.predict_proba(test_feature_matrix)"
   ]
  },
  {
   "cell_type": "code",
   "execution_count": null,
   "metadata": {},
   "outputs": [],
   "source": [
    "predictions = model.predict(test_feature_matrix)"
   ]
  },
  {
   "cell_type": "code",
   "execution_count": null,
   "metadata": {},
   "outputs": [],
   "source": [
    "accuracy_score(test_y, predictions)"
   ]
  },
  {
   "cell_type": "code",
   "execution_count": null,
   "metadata": {},
   "outputs": [],
   "source": [
    "disp = ConfusionMatrixDisplay(confusion_matrix(test_y, predictions))\n",
    "disp.plot()\n",
    "plt.grid(False)"
   ]
  },
  {
   "cell_type": "markdown",
   "metadata": {},
   "source": [
    "## Modell-Analyse"
   ]
  },
  {
   "cell_type": "markdown",
   "metadata": {},
   "source": [
    "### Logistische Regression"
   ]
  },
  {
   "cell_type": "code",
   "execution_count": null,
   "metadata": {},
   "outputs": [],
   "source": [
    "# Wie wichtig sind einzelne Features?\n",
    "feature_importance = pd.DataFrame({\n",
    "    'importance': abs(model.coef_[0] * feature_matrix.std().values)\n",
    "}, index=model.feature_names_in_)\n",
    "feature_importance.sort_values(by='importance').plot.barh()"
   ]
  },
  {
   "cell_type": "code",
   "execution_count": null,
   "metadata": {},
   "outputs": [],
   "source": [
    "# Was für einen Einfluss haben einzelne Features?\n",
    "pd.DataFrame({'Koeffizient (Standardisiert)': model.coef_[0] * feature_matrix.std().values}, index=model.feature_names_in_) \\\n",
    "    .sort_values(by='Koeffizient (Standardisiert)').plot.barh()"
   ]
  },
  {
   "cell_type": "code",
   "execution_count": null,
   "metadata": {},
   "outputs": [],
   "source": [
    "# Entscheidungs-Gerade (Nur für Beispiel-Datensets)\n",
    "a = -model.coef_[0, 1] / model.coef_[0, 0]\n",
    "b = -model.intercept_[0] / model.coef_[0, 0]\n",
    "\n",
    "sns.scatterplot(train_feature_matrix, x='humidity', y='temperature', hue=train_y)\n",
    "#sns.scatterplot(test_feature_matrix, x='humidity', y='temperature', hue=test_y)\n",
    "x_vals = np.linspace(0,1, 10)\n",
    "plt.plot(x_vals, a*x_vals + b)"
   ]
  },
  {
   "cell_type": "markdown",
   "metadata": {},
   "source": [
    "### Decision-Tree"
   ]
  },
  {
   "cell_type": "code",
   "execution_count": null,
   "metadata": {},
   "outputs": [],
   "source": [
    "# Wie wichtig sind einzelne Features?\n",
    "feature_importance = pd.DataFrame({'importance': model.feature_importances_}, index=model.feature_names_in_)\n",
    "feature_importance.sort_values(by='importance').plot.barh()"
   ]
  },
  {
   "cell_type": "code",
   "execution_count": null,
   "metadata": {},
   "outputs": [],
   "source": [
    "# Wie sieht der Decision-Tree aus?\n",
    "fig = plt.figure(figsize=(10,6))\n",
    "_ = plot_tree(model, feature_names=model.feature_names_in_, class_names=model.classes_.astype(str), filled=True)"
   ]
  },
  {
   "cell_type": "code",
   "execution_count": null,
   "metadata": {},
   "outputs": [],
   "source": [
    "tree_disp = DecisionBoundaryDisplay.from_estimator(model, train_feature_matrix)\n",
    "sns.scatterplot(train_feature_matrix, y='humidity', x='temperature', hue=train_y)\n",
    "#sns.scatterplot(test_feature_matrix, y='humidity', x='temperature', hue=test_y)"
   ]
  }
 ],
 "metadata": {
  "kernelspec": {
   "display_name": "py310",
   "language": "python",
   "name": "python3"
  },
  "language_info": {
   "codemirror_mode": {
    "name": "ipython",
    "version": 3
   },
   "file_extension": ".py",
   "mimetype": "text/x-python",
   "name": "python",
   "nbconvert_exporter": "python",
   "pygments_lexer": "ipython3",
   "version": "3.10.12"
  }
 },
 "nbformat": 4,
 "nbformat_minor": 2
}
